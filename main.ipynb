{
 "cells": [
  {
   "cell_type": "markdown",
   "id": "ef4c6fd5",
   "metadata": {},
   "source": [
    "# Bee Acoustic Classification: Queen Presence Detection\n",
    "\n",
    "**Author:** Amaanullah Iqbal \n",
    "**Date:** May 24, 2025\n",
    "\n",
    "## Summary\n",
    "This notebook presents a complete pipeline for detecting queen presence in bee colonies using audio data and MFCC features. We use a simple CNN model and evaluate its performance using standard classification metrics and visualizations.\n"
   ]
  },
  {
   "cell_type": "markdown",
   "id": "6c860b20",
   "metadata": {},
   "source": [
    "## Environment and Requirements\n",
    "\n",
    "The following packages are required (see `requirements.txt`):\n",
    "\n",
    "- pandas\n",
    "- numpy\n",
    "- librosa\n",
    "- tqdm\n",
    "- scikit-learn\n",
    "- tensorflow\n",
    "- matplotlib\n",
    "- seaborn\n",
    "\n"
   ]
  },
  {
   "cell_type": "markdown",
   "id": "6cda6b8f",
   "metadata": {},
   "source": [
    "#### Data Loading\n",
    "We load the metadata CSV and display the first few rows."
   ]
  },
  {
   "cell_type": "code",
   "execution_count": 1,
   "id": "20c9cf9c",
   "metadata": {},
   "outputs": [
    {
     "data": {
      "text/html": [
       "<div>\n",
       "<style scoped>\n",
       "    .dataframe tbody tr th:only-of-type {\n",
       "        vertical-align: middle;\n",
       "    }\n",
       "\n",
       "    .dataframe tbody tr th {\n",
       "        vertical-align: top;\n",
       "    }\n",
       "\n",
       "    .dataframe thead th {\n",
       "        text-align: right;\n",
       "    }\n",
       "</style>\n",
       "<table border=\"1\" class=\"dataframe\">\n",
       "  <thead>\n",
       "    <tr style=\"text-align: right;\">\n",
       "      <th></th>\n",
       "      <th>device</th>\n",
       "      <th>hive number</th>\n",
       "      <th>date</th>\n",
       "      <th>hive temp</th>\n",
       "      <th>hive humidity</th>\n",
       "      <th>hive pressure</th>\n",
       "      <th>weather temp</th>\n",
       "      <th>weather humidity</th>\n",
       "      <th>weather pressure</th>\n",
       "      <th>wind speed</th>\n",
       "      <th>...</th>\n",
       "      <th>rain</th>\n",
       "      <th>lat</th>\n",
       "      <th>long</th>\n",
       "      <th>file name</th>\n",
       "      <th>queen presence</th>\n",
       "      <th>queen acceptance</th>\n",
       "      <th>frames</th>\n",
       "      <th>target</th>\n",
       "      <th>time</th>\n",
       "      <th>queen status</th>\n",
       "    </tr>\n",
       "  </thead>\n",
       "  <tbody>\n",
       "    <tr>\n",
       "      <th>0</th>\n",
       "      <td>1</td>\n",
       "      <td>5</td>\n",
       "      <td>2022-06-08 14:52:28</td>\n",
       "      <td>36.42</td>\n",
       "      <td>30.29</td>\n",
       "      <td>1007.45</td>\n",
       "      <td>26.68</td>\n",
       "      <td>52</td>\n",
       "      <td>1013</td>\n",
       "      <td>8.75</td>\n",
       "      <td>...</td>\n",
       "      <td>0</td>\n",
       "      <td>37.29</td>\n",
       "      <td>-121.95</td>\n",
       "      <td>2022-06-08--14-52-28_1.raw</td>\n",
       "      <td>1</td>\n",
       "      <td>2</td>\n",
       "      <td>8</td>\n",
       "      <td>0</td>\n",
       "      <td>0.583</td>\n",
       "      <td>0</td>\n",
       "    </tr>\n",
       "    <tr>\n",
       "      <th>1</th>\n",
       "      <td>1</td>\n",
       "      <td>5</td>\n",
       "      <td>2022-06-08 15:51:41</td>\n",
       "      <td>33.56</td>\n",
       "      <td>33.98</td>\n",
       "      <td>1006.93</td>\n",
       "      <td>25.99</td>\n",
       "      <td>53</td>\n",
       "      <td>1012</td>\n",
       "      <td>10.29</td>\n",
       "      <td>...</td>\n",
       "      <td>0</td>\n",
       "      <td>37.29</td>\n",
       "      <td>-121.95</td>\n",
       "      <td>2022-06-08--15-51-41_1.raw</td>\n",
       "      <td>1</td>\n",
       "      <td>2</td>\n",
       "      <td>8</td>\n",
       "      <td>0</td>\n",
       "      <td>0.625</td>\n",
       "      <td>0</td>\n",
       "    </tr>\n",
       "    <tr>\n",
       "      <th>2</th>\n",
       "      <td>1</td>\n",
       "      <td>5</td>\n",
       "      <td>2022-06-08 17:21:53</td>\n",
       "      <td>29.01</td>\n",
       "      <td>42.73</td>\n",
       "      <td>1006.68</td>\n",
       "      <td>24.49</td>\n",
       "      <td>56</td>\n",
       "      <td>1012</td>\n",
       "      <td>8.75</td>\n",
       "      <td>...</td>\n",
       "      <td>0</td>\n",
       "      <td>37.29</td>\n",
       "      <td>-121.95</td>\n",
       "      <td>2022-06-08--17-21-53_1.raw</td>\n",
       "      <td>0</td>\n",
       "      <td>0</td>\n",
       "      <td>8</td>\n",
       "      <td>1</td>\n",
       "      <td>0.708</td>\n",
       "      <td>1</td>\n",
       "    </tr>\n",
       "    <tr>\n",
       "      <th>3</th>\n",
       "      <td>1</td>\n",
       "      <td>5</td>\n",
       "      <td>2022-06-08 18:20:59</td>\n",
       "      <td>30.51</td>\n",
       "      <td>36.74</td>\n",
       "      <td>1006.68</td>\n",
       "      <td>22.97</td>\n",
       "      <td>59</td>\n",
       "      <td>1012</td>\n",
       "      <td>8.23</td>\n",
       "      <td>...</td>\n",
       "      <td>0</td>\n",
       "      <td>37.29</td>\n",
       "      <td>-121.95</td>\n",
       "      <td>2022-06-08--18-20-59_1.raw</td>\n",
       "      <td>0</td>\n",
       "      <td>0</td>\n",
       "      <td>8</td>\n",
       "      <td>1</td>\n",
       "      <td>0.750</td>\n",
       "      <td>1</td>\n",
       "    </tr>\n",
       "    <tr>\n",
       "      <th>4</th>\n",
       "      <td>1</td>\n",
       "      <td>5</td>\n",
       "      <td>2022-06-08 19:20:04</td>\n",
       "      <td>30.32</td>\n",
       "      <td>35.55</td>\n",
       "      <td>1006.58</td>\n",
       "      <td>21.52</td>\n",
       "      <td>61</td>\n",
       "      <td>1012</td>\n",
       "      <td>7.20</td>\n",
       "      <td>...</td>\n",
       "      <td>0</td>\n",
       "      <td>37.29</td>\n",
       "      <td>-121.95</td>\n",
       "      <td>2022-06-08--19-20-04_1.raw</td>\n",
       "      <td>0</td>\n",
       "      <td>0</td>\n",
       "      <td>8</td>\n",
       "      <td>1</td>\n",
       "      <td>0.792</td>\n",
       "      <td>1</td>\n",
       "    </tr>\n",
       "  </tbody>\n",
       "</table>\n",
       "<p>5 rows × 23 columns</p>\n",
       "</div>"
      ],
      "text/plain": [
       "   device  hive number                 date  hive temp  hive humidity  \\\n",
       "0       1            5  2022-06-08 14:52:28      36.42          30.29   \n",
       "1       1            5  2022-06-08 15:51:41      33.56          33.98   \n",
       "2       1            5  2022-06-08 17:21:53      29.01          42.73   \n",
       "3       1            5  2022-06-08 18:20:59      30.51          36.74   \n",
       "4       1            5  2022-06-08 19:20:04      30.32          35.55   \n",
       "\n",
       "   hive pressure  weather temp  weather humidity  weather pressure  \\\n",
       "0        1007.45         26.68                52              1013   \n",
       "1        1006.93         25.99                53              1012   \n",
       "2        1006.68         24.49                56              1012   \n",
       "3        1006.68         22.97                59              1012   \n",
       "4        1006.58         21.52                61              1012   \n",
       "\n",
       "   wind speed  ...  rain    lat    long                   file name  \\\n",
       "0        8.75  ...     0  37.29 -121.95  2022-06-08--14-52-28_1.raw   \n",
       "1       10.29  ...     0  37.29 -121.95  2022-06-08--15-51-41_1.raw   \n",
       "2        8.75  ...     0  37.29 -121.95  2022-06-08--17-21-53_1.raw   \n",
       "3        8.23  ...     0  37.29 -121.95  2022-06-08--18-20-59_1.raw   \n",
       "4        7.20  ...     0  37.29 -121.95  2022-06-08--19-20-04_1.raw   \n",
       "\n",
       "   queen presence  queen acceptance frames  target   time  queen status  \n",
       "0               1                 2      8       0  0.583             0  \n",
       "1               1                 2      8       0  0.625             0  \n",
       "2               0                 0      8       1  0.708             1  \n",
       "3               0                 0      8       1  0.750             1  \n",
       "4               0                 0      8       1  0.792             1  \n",
       "\n",
       "[5 rows x 23 columns]"
      ]
     },
     "metadata": {},
     "output_type": "display_data"
    }
   ],
   "source": [
    "import pandas as pd\n",
    "\n",
    "# Load the metadata CSV\n",
    "metadata = pd.read_csv(r'C:\\Users\\uamaa\\Bee-accoustic\\archive\\all_data_updated.csv')\n",
    "display(metadata.head())"
   ]
  },
  {
   "cell_type": "markdown",
   "id": "ca23dd40",
   "metadata": {},
   "source": [
    "#### Feature Extraction\n",
    "We extract MFCC features from each audio file using Librosa."
   ]
  },
  {
   "cell_type": "code",
   "execution_count": 70,
   "id": "59b20315",
   "metadata": {},
   "outputs": [],
   "source": [
    "import librosa\n",
    "import numpy as np\n",
    "\n",
    "def features_extractor(file_path, sr=16000, n_mfcc=40):\n",
    "    try:\n",
    "        data, _ = librosa.load(file_path, sr=sr)\n",
    "        mfccs = librosa.feature.mfcc(y=data, sr=sr, n_mfcc=n_mfcc)\n",
    "        mfccs_scaled = np.mean(mfccs.T, axis=0)\n",
    "        return mfccs_scaled\n",
    "    except Exception as e:\n",
    "        print(f\"Error processing {file_path}: {e}\")\n",
    "        return np.zeros(n_mfcc)\n"
   ]
  },
  {
   "cell_type": "markdown",
   "id": "3d12f397",
   "metadata": {},
   "source": [
    "#### Extract Features for All Files\n",
    "We iterate through the metadata and extract features for each audio file."
   ]
  },
  {
   "cell_type": "code",
   "execution_count": null,
   "id": "56d9a33c",
   "metadata": {},
   "outputs": [],
   "source": [
    "import os\n",
    "from tqdm import tqdm\n",
    "\n",
    "# Path where audio files are stored\n",
    "audio_dataset_path = r'C:\\Users\\uamaa\\Bee-accoustic\\archive\\sound_files\\sound_files'\n",
    "\n",
    "# Lists to hold features and labels\n",
    "features = []\n",
    "labels = []\n",
    "\n",
    "for idx, row in tqdm(metadata.iterrows(), total=len(metadata)):\n",
    "    file_name = row['file name']\n",
    "    label = row['queen presence']\n",
    "    file_path = os.path.join(audio_dataset_path, file_name)\n",
    "    mfccs = features_extractor(file_path)\n",
    "    features.append(mfccs)\n",
    "    labels.append(label)\n",
    "\n",
    "# Convert to numpy arrays\n",
    "X = np.array(features)\n",
    "y = np.array(labels)\n"
   ]
  },
  {
   "cell_type": "markdown",
   "id": "4177bdb8",
   "metadata": {},
   "source": [
    "#### Convert Features to DataFrame\n",
    "For inspection and potential saving."
   ]
  },
  {
   "cell_type": "code",
   "execution_count": 98,
   "id": "f22d1956",
   "metadata": {},
   "outputs": [
    {
     "data": {
      "text/html": [
       "<div>\n",
       "<style scoped>\n",
       "    .dataframe tbody tr th:only-of-type {\n",
       "        vertical-align: middle;\n",
       "    }\n",
       "\n",
       "    .dataframe tbody tr th {\n",
       "        vertical-align: top;\n",
       "    }\n",
       "\n",
       "    .dataframe thead th {\n",
       "        text-align: right;\n",
       "    }\n",
       "</style>\n",
       "<table border=\"1\" class=\"dataframe\">\n",
       "  <thead>\n",
       "    <tr style=\"text-align: right;\">\n",
       "      <th></th>\n",
       "      <th>features</th>\n",
       "      <th>Queen Status</th>\n",
       "    </tr>\n",
       "  </thead>\n",
       "  <tbody>\n",
       "    <tr>\n",
       "      <th>0</th>\n",
       "      <td>[0.0, 0.0, 0.0, 0.0, 0.0, 0.0, 0.0, 0.0, 0.0, ...</td>\n",
       "      <td>1</td>\n",
       "    </tr>\n",
       "    <tr>\n",
       "      <th>1</th>\n",
       "      <td>[0.0, 0.0, 0.0, 0.0, 0.0, 0.0, 0.0, 0.0, 0.0, ...</td>\n",
       "      <td>1</td>\n",
       "    </tr>\n",
       "    <tr>\n",
       "      <th>2</th>\n",
       "      <td>[0.0, 0.0, 0.0, 0.0, 0.0, 0.0, 0.0, 0.0, 0.0, ...</td>\n",
       "      <td>0</td>\n",
       "    </tr>\n",
       "    <tr>\n",
       "      <th>3</th>\n",
       "      <td>[0.0, 0.0, 0.0, 0.0, 0.0, 0.0, 0.0, 0.0, 0.0, ...</td>\n",
       "      <td>0</td>\n",
       "    </tr>\n",
       "    <tr>\n",
       "      <th>4</th>\n",
       "      <td>[0.0, 0.0, 0.0, 0.0, 0.0, 0.0, 0.0, 0.0, 0.0, ...</td>\n",
       "      <td>0</td>\n",
       "    </tr>\n",
       "    <tr>\n",
       "      <th>...</th>\n",
       "      <td>...</td>\n",
       "      <td>...</td>\n",
       "    </tr>\n",
       "    <tr>\n",
       "      <th>95</th>\n",
       "      <td>[0.0, 0.0, 0.0, 0.0, 0.0, 0.0, 0.0, 0.0, 0.0, ...</td>\n",
       "      <td>1</td>\n",
       "    </tr>\n",
       "    <tr>\n",
       "      <th>96</th>\n",
       "      <td>[0.0, 0.0, 0.0, 0.0, 0.0, 0.0, 0.0, 0.0, 0.0, ...</td>\n",
       "      <td>1</td>\n",
       "    </tr>\n",
       "    <tr>\n",
       "      <th>97</th>\n",
       "      <td>[0.0, 0.0, 0.0, 0.0, 0.0, 0.0, 0.0, 0.0, 0.0, ...</td>\n",
       "      <td>1</td>\n",
       "    </tr>\n",
       "    <tr>\n",
       "      <th>98</th>\n",
       "      <td>[0.0, 0.0, 0.0, 0.0, 0.0, 0.0, 0.0, 0.0, 0.0, ...</td>\n",
       "      <td>1</td>\n",
       "    </tr>\n",
       "    <tr>\n",
       "      <th>99</th>\n",
       "      <td>[0.0, 0.0, 0.0, 0.0, 0.0, 0.0, 0.0, 0.0, 0.0, ...</td>\n",
       "      <td>1</td>\n",
       "    </tr>\n",
       "  </tbody>\n",
       "</table>\n",
       "<p>100 rows × 2 columns</p>\n",
       "</div>"
      ],
      "text/plain": [
       "                                             features  Queen Status\n",
       "0   [0.0, 0.0, 0.0, 0.0, 0.0, 0.0, 0.0, 0.0, 0.0, ...             1\n",
       "1   [0.0, 0.0, 0.0, 0.0, 0.0, 0.0, 0.0, 0.0, 0.0, ...             1\n",
       "2   [0.0, 0.0, 0.0, 0.0, 0.0, 0.0, 0.0, 0.0, 0.0, ...             0\n",
       "3   [0.0, 0.0, 0.0, 0.0, 0.0, 0.0, 0.0, 0.0, 0.0, ...             0\n",
       "4   [0.0, 0.0, 0.0, 0.0, 0.0, 0.0, 0.0, 0.0, 0.0, ...             0\n",
       "..                                                ...           ...\n",
       "95  [0.0, 0.0, 0.0, 0.0, 0.0, 0.0, 0.0, 0.0, 0.0, ...             1\n",
       "96  [0.0, 0.0, 0.0, 0.0, 0.0, 0.0, 0.0, 0.0, 0.0, ...             1\n",
       "97  [0.0, 0.0, 0.0, 0.0, 0.0, 0.0, 0.0, 0.0, 0.0, ...             1\n",
       "98  [0.0, 0.0, 0.0, 0.0, 0.0, 0.0, 0.0, 0.0, 0.0, ...             1\n",
       "99  [0.0, 0.0, 0.0, 0.0, 0.0, 0.0, 0.0, 0.0, 0.0, ...             1\n",
       "\n",
       "[100 rows x 2 columns]"
      ]
     },
     "execution_count": 98,
     "metadata": {},
     "output_type": "execute_result"
    }
   ],
   "source": [
    "### converting extracted_features to pandas dataframe\n",
    "extracted_features_df = pd.DataFrame({\n",
    "    'features': features,\n",
    "    'Queen Status': labels\n",
    "})\n",
    "extracted_features_df.head(100)"
   ]
  },
  {
   "cell_type": "markdown",
   "id": "e601eb90",
   "metadata": {},
   "source": [
    "#### Train/Validation/Test Split\n",
    "We split the data into training, validation, and test sets."
   ]
  },
  {
   "cell_type": "code",
   "execution_count": 99,
   "id": "f799e1cc",
   "metadata": {},
   "outputs": [],
   "source": [
    "from sklearn.model_selection import train_test_split\n",
    "\n",
    "# 70% train, 15% val, 15% test split\n",
    "X_train, X_temp, y_train, y_temp = train_test_split(X, y, test_size=0.30, stratify=y, random_state=42)\n",
    "X_val, X_test, y_val, y_test = train_test_split(X_temp, y_temp, test_size=0.50, stratify=y_temp, random_state=42)\n"
   ]
  },
  {
   "cell_type": "markdown",
   "id": "03c8e1d7",
   "metadata": {},
   "source": [
    "#### Model Building\n",
    "We use a simple 1D CNN for classification."
   ]
  },
  {
   "cell_type": "code",
   "execution_count": 106,
   "id": "21f8d050",
   "metadata": {},
   "outputs": [
    {
     "data": {
      "text/html": [
       "<pre style=\"white-space:pre;overflow-x:auto;line-height:normal;font-family:Menlo,'DejaVu Sans Mono',consolas,'Courier New',monospace\"><span style=\"font-weight: bold\">Model: \"sequential_8\"</span>\n",
       "</pre>\n"
      ],
      "text/plain": [
       "\u001b[1mModel: \"sequential_8\"\u001b[0m\n"
      ]
     },
     "metadata": {},
     "output_type": "display_data"
    },
    {
     "data": {
      "text/html": [
       "<pre style=\"white-space:pre;overflow-x:auto;line-height:normal;font-family:Menlo,'DejaVu Sans Mono',consolas,'Courier New',monospace\">┏━━━━━━━━━━━━━━━━━━━━━━━━━━━━━━━━━┳━━━━━━━━━━━━━━━━━━━━━━━━┳━━━━━━━━━━━━━━━┓\n",
       "┃<span style=\"font-weight: bold\"> Layer (type)                    </span>┃<span style=\"font-weight: bold\"> Output Shape           </span>┃<span style=\"font-weight: bold\">       Param # </span>┃\n",
       "┡━━━━━━━━━━━━━━━━━━━━━━━━━━━━━━━━━╇━━━━━━━━━━━━━━━━━━━━━━━━╇━━━━━━━━━━━━━━━┩\n",
       "│ reshape_7 (<span style=\"color: #0087ff; text-decoration-color: #0087ff\">Reshape</span>)             │ (<span style=\"color: #00d7ff; text-decoration-color: #00d7ff\">None</span>, <span style=\"color: #00af00; text-decoration-color: #00af00\">40</span>, <span style=\"color: #00af00; text-decoration-color: #00af00\">1</span>)          │             <span style=\"color: #00af00; text-decoration-color: #00af00\">0</span> │\n",
       "├─────────────────────────────────┼────────────────────────┼───────────────┤\n",
       "│ conv1d_14 (<span style=\"color: #0087ff; text-decoration-color: #0087ff\">Conv1D</span>)              │ (<span style=\"color: #00d7ff; text-decoration-color: #00d7ff\">None</span>, <span style=\"color: #00af00; text-decoration-color: #00af00\">38</span>, <span style=\"color: #00af00; text-decoration-color: #00af00\">32</span>)         │           <span style=\"color: #00af00; text-decoration-color: #00af00\">128</span> │\n",
       "├─────────────────────────────────┼────────────────────────┼───────────────┤\n",
       "│ max_pooling1d_7 (<span style=\"color: #0087ff; text-decoration-color: #0087ff\">MaxPooling1D</span>)  │ (<span style=\"color: #00d7ff; text-decoration-color: #00d7ff\">None</span>, <span style=\"color: #00af00; text-decoration-color: #00af00\">19</span>, <span style=\"color: #00af00; text-decoration-color: #00af00\">32</span>)         │             <span style=\"color: #00af00; text-decoration-color: #00af00\">0</span> │\n",
       "├─────────────────────────────────┼────────────────────────┼───────────────┤\n",
       "│ conv1d_15 (<span style=\"color: #0087ff; text-decoration-color: #0087ff\">Conv1D</span>)              │ (<span style=\"color: #00d7ff; text-decoration-color: #00d7ff\">None</span>, <span style=\"color: #00af00; text-decoration-color: #00af00\">17</span>, <span style=\"color: #00af00; text-decoration-color: #00af00\">64</span>)         │         <span style=\"color: #00af00; text-decoration-color: #00af00\">6,208</span> │\n",
       "├─────────────────────────────────┼────────────────────────┼───────────────┤\n",
       "│ global_max_pooling1d_7          │ (<span style=\"color: #00d7ff; text-decoration-color: #00d7ff\">None</span>, <span style=\"color: #00af00; text-decoration-color: #00af00\">64</span>)             │             <span style=\"color: #00af00; text-decoration-color: #00af00\">0</span> │\n",
       "│ (<span style=\"color: #0087ff; text-decoration-color: #0087ff\">GlobalMaxPooling1D</span>)            │                        │               │\n",
       "├─────────────────────────────────┼────────────────────────┼───────────────┤\n",
       "│ dense_17 (<span style=\"color: #0087ff; text-decoration-color: #0087ff\">Dense</span>)                │ (<span style=\"color: #00d7ff; text-decoration-color: #00d7ff\">None</span>, <span style=\"color: #00af00; text-decoration-color: #00af00\">64</span>)             │         <span style=\"color: #00af00; text-decoration-color: #00af00\">4,160</span> │\n",
       "├─────────────────────────────────┼────────────────────────┼───────────────┤\n",
       "│ dense_18 (<span style=\"color: #0087ff; text-decoration-color: #0087ff\">Dense</span>)                │ (<span style=\"color: #00d7ff; text-decoration-color: #00d7ff\">None</span>, <span style=\"color: #00af00; text-decoration-color: #00af00\">1</span>)              │            <span style=\"color: #00af00; text-decoration-color: #00af00\">65</span> │\n",
       "└─────────────────────────────────┴────────────────────────┴───────────────┘\n",
       "</pre>\n"
      ],
      "text/plain": [
       "┏━━━━━━━━━━━━━━━━━━━━━━━━━━━━━━━━━┳━━━━━━━━━━━━━━━━━━━━━━━━┳━━━━━━━━━━━━━━━┓\n",
       "┃\u001b[1m \u001b[0m\u001b[1mLayer (type)                   \u001b[0m\u001b[1m \u001b[0m┃\u001b[1m \u001b[0m\u001b[1mOutput Shape          \u001b[0m\u001b[1m \u001b[0m┃\u001b[1m \u001b[0m\u001b[1m      Param #\u001b[0m\u001b[1m \u001b[0m┃\n",
       "┡━━━━━━━━━━━━━━━━━━━━━━━━━━━━━━━━━╇━━━━━━━━━━━━━━━━━━━━━━━━╇━━━━━━━━━━━━━━━┩\n",
       "│ reshape_7 (\u001b[38;5;33mReshape\u001b[0m)             │ (\u001b[38;5;45mNone\u001b[0m, \u001b[38;5;34m40\u001b[0m, \u001b[38;5;34m1\u001b[0m)          │             \u001b[38;5;34m0\u001b[0m │\n",
       "├─────────────────────────────────┼────────────────────────┼───────────────┤\n",
       "│ conv1d_14 (\u001b[38;5;33mConv1D\u001b[0m)              │ (\u001b[38;5;45mNone\u001b[0m, \u001b[38;5;34m38\u001b[0m, \u001b[38;5;34m32\u001b[0m)         │           \u001b[38;5;34m128\u001b[0m │\n",
       "├─────────────────────────────────┼────────────────────────┼───────────────┤\n",
       "│ max_pooling1d_7 (\u001b[38;5;33mMaxPooling1D\u001b[0m)  │ (\u001b[38;5;45mNone\u001b[0m, \u001b[38;5;34m19\u001b[0m, \u001b[38;5;34m32\u001b[0m)         │             \u001b[38;5;34m0\u001b[0m │\n",
       "├─────────────────────────────────┼────────────────────────┼───────────────┤\n",
       "│ conv1d_15 (\u001b[38;5;33mConv1D\u001b[0m)              │ (\u001b[38;5;45mNone\u001b[0m, \u001b[38;5;34m17\u001b[0m, \u001b[38;5;34m64\u001b[0m)         │         \u001b[38;5;34m6,208\u001b[0m │\n",
       "├─────────────────────────────────┼────────────────────────┼───────────────┤\n",
       "│ global_max_pooling1d_7          │ (\u001b[38;5;45mNone\u001b[0m, \u001b[38;5;34m64\u001b[0m)             │             \u001b[38;5;34m0\u001b[0m │\n",
       "│ (\u001b[38;5;33mGlobalMaxPooling1D\u001b[0m)            │                        │               │\n",
       "├─────────────────────────────────┼────────────────────────┼───────────────┤\n",
       "│ dense_17 (\u001b[38;5;33mDense\u001b[0m)                │ (\u001b[38;5;45mNone\u001b[0m, \u001b[38;5;34m64\u001b[0m)             │         \u001b[38;5;34m4,160\u001b[0m │\n",
       "├─────────────────────────────────┼────────────────────────┼───────────────┤\n",
       "│ dense_18 (\u001b[38;5;33mDense\u001b[0m)                │ (\u001b[38;5;45mNone\u001b[0m, \u001b[38;5;34m1\u001b[0m)              │            \u001b[38;5;34m65\u001b[0m │\n",
       "└─────────────────────────────────┴────────────────────────┴───────────────┘\n"
      ]
     },
     "metadata": {},
     "output_type": "display_data"
    },
    {
     "data": {
      "text/html": [
       "<pre style=\"white-space:pre;overflow-x:auto;line-height:normal;font-family:Menlo,'DejaVu Sans Mono',consolas,'Courier New',monospace\"><span style=\"font-weight: bold\"> Total params: </span><span style=\"color: #00af00; text-decoration-color: #00af00\">10,561</span> (41.25 KB)\n",
       "</pre>\n"
      ],
      "text/plain": [
       "\u001b[1m Total params: \u001b[0m\u001b[38;5;34m10,561\u001b[0m (41.25 KB)\n"
      ]
     },
     "metadata": {},
     "output_type": "display_data"
    },
    {
     "data": {
      "text/html": [
       "<pre style=\"white-space:pre;overflow-x:auto;line-height:normal;font-family:Menlo,'DejaVu Sans Mono',consolas,'Courier New',monospace\"><span style=\"font-weight: bold\"> Trainable params: </span><span style=\"color: #00af00; text-decoration-color: #00af00\">10,561</span> (41.25 KB)\n",
       "</pre>\n"
      ],
      "text/plain": [
       "\u001b[1m Trainable params: \u001b[0m\u001b[38;5;34m10,561\u001b[0m (41.25 KB)\n"
      ]
     },
     "metadata": {},
     "output_type": "display_data"
    },
    {
     "data": {
      "text/html": [
       "<pre style=\"white-space:pre;overflow-x:auto;line-height:normal;font-family:Menlo,'DejaVu Sans Mono',consolas,'Courier New',monospace\"><span style=\"font-weight: bold\"> Non-trainable params: </span><span style=\"color: #00af00; text-decoration-color: #00af00\">0</span> (0.00 B)\n",
       "</pre>\n"
      ],
      "text/plain": [
       "\u001b[1m Non-trainable params: \u001b[0m\u001b[38;5;34m0\u001b[0m (0.00 B)\n"
      ]
     },
     "metadata": {},
     "output_type": "display_data"
    }
   ],
   "source": [
    "import tensorflow as tf\n",
    "from tensorflow.keras import layers, models\n",
    "\"\"\"We chose simple CNN model for training because \n",
    "it is simple and easy to implement \n",
    "on MFCC than lstm or CRNN\"\"\"\n",
    "\n",
    "def build_cnn_model(input_shape):\n",
    "    model = models.Sequential([\n",
    "        layers.Input(shape=input_shape),\n",
    "        layers.Reshape((input_shape[0], 1)),\n",
    "        layers.Conv1D(32, 3, activation='relu'),\n",
    "        layers.MaxPooling1D(2),\n",
    "        layers.Conv1D(64, 3, activation='relu'),\n",
    "        layers.GlobalMaxPooling1D(),\n",
    "        layers.Dense(64, activation='relu'),\n",
    "        layers.Dense(1, activation='sigmoid')\n",
    "    ])\n",
    "    model.compile(optimizer='adam', loss='binary_crossentropy', metrics=['accuracy'])\n",
    "    return model\n",
    "\n",
    "model = build_cnn_model(X_train.shape[1:])\n",
    "model.summary()\n"
   ]
  },
  {
   "cell_type": "markdown",
   "id": "e2c40503",
   "metadata": {},
   "source": [
    "#### Model Training\n",
    "We train the model with early stopping."
   ]
  },
  {
   "cell_type": "code",
   "execution_count": 107,
   "id": "c12df056",
   "metadata": {},
   "outputs": [
    {
     "name": "stdout",
     "output_type": "stream",
     "text": [
      "Epoch 1/25\n",
      "\u001b[1m28/28\u001b[0m \u001b[32m━━━━━━━━━━━━━━━━━━━━\u001b[0m\u001b[37m\u001b[0m \u001b[1m6s\u001b[0m 46ms/step - accuracy: 0.7670 - loss: 0.6906 - val_accuracy: 0.8796 - val_loss: 0.6827\n",
      "Epoch 2/25\n",
      "\u001b[1m28/28\u001b[0m \u001b[32m━━━━━━━━━━━━━━━━━━━━\u001b[0m\u001b[37m\u001b[0m \u001b[1m1s\u001b[0m 16ms/step - accuracy: 0.8954 - loss: 0.6797 - val_accuracy: 0.8796 - val_loss: 0.6725\n",
      "Epoch 3/25\n",
      "\u001b[1m28/28\u001b[0m \u001b[32m━━━━━━━━━━━━━━━━━━━━\u001b[0m\u001b[37m\u001b[0m \u001b[1m1s\u001b[0m 22ms/step - accuracy: 0.8750 - loss: 0.6703 - val_accuracy: 0.8796 - val_loss: 0.6627\n",
      "Epoch 4/25\n",
      "\u001b[1m28/28\u001b[0m \u001b[32m━━━━━━━━━━━━━━━━━━━━\u001b[0m\u001b[37m\u001b[0m \u001b[1m1s\u001b[0m 22ms/step - accuracy: 0.8691 - loss: 0.6612 - val_accuracy: 0.8796 - val_loss: 0.6532\n",
      "Epoch 5/25\n",
      "\u001b[1m28/28\u001b[0m \u001b[32m━━━━━━━━━━━━━━━━━━━━\u001b[0m\u001b[37m\u001b[0m \u001b[1m1s\u001b[0m 22ms/step - accuracy: 0.8631 - loss: 0.6527 - val_accuracy: 0.8796 - val_loss: 0.6439\n",
      "Epoch 6/25\n",
      "\u001b[1m28/28\u001b[0m \u001b[32m━━━━━━━━━━━━━━━━━━━━\u001b[0m\u001b[37m\u001b[0m \u001b[1m1s\u001b[0m 28ms/step - accuracy: 0.8649 - loss: 0.6436 - val_accuracy: 0.8796 - val_loss: 0.6347\n",
      "Epoch 7/25\n",
      "\u001b[1m28/28\u001b[0m \u001b[32m━━━━━━━━━━━━━━━━━━━━\u001b[0m\u001b[37m\u001b[0m \u001b[1m1s\u001b[0m 21ms/step - accuracy: 0.8844 - loss: 0.6318 - val_accuracy: 0.8796 - val_loss: 0.6260\n",
      "Epoch 8/25\n",
      "\u001b[1m28/28\u001b[0m \u001b[32m━━━━━━━━━━━━━━━━━━━━\u001b[0m\u001b[37m\u001b[0m \u001b[1m1s\u001b[0m 22ms/step - accuracy: 0.8906 - loss: 0.6217 - val_accuracy: 0.8796 - val_loss: 0.6174\n",
      "Epoch 9/25\n",
      "\u001b[1m28/28\u001b[0m \u001b[32m━━━━━━━━━━━━━━━━━━━━\u001b[0m\u001b[37m\u001b[0m \u001b[1m1s\u001b[0m 20ms/step - accuracy: 0.8832 - loss: 0.6146 - val_accuracy: 0.8796 - val_loss: 0.6092\n",
      "Epoch 10/25\n",
      "\u001b[1m28/28\u001b[0m \u001b[32m━━━━━━━━━━━━━━━━━━━━\u001b[0m\u001b[37m\u001b[0m \u001b[1m1s\u001b[0m 23ms/step - accuracy: 0.8642 - loss: 0.6109 - val_accuracy: 0.8796 - val_loss: 0.6012\n",
      "Epoch 11/25\n",
      "\u001b[1m28/28\u001b[0m \u001b[32m━━━━━━━━━━━━━━━━━━━━\u001b[0m\u001b[37m\u001b[0m \u001b[1m1s\u001b[0m 35ms/step - accuracy: 0.8777 - loss: 0.5997 - val_accuracy: 0.8796 - val_loss: 0.5933\n",
      "Epoch 12/25\n",
      "\u001b[1m28/28\u001b[0m \u001b[32m━━━━━━━━━━━━━━━━━━━━\u001b[0m\u001b[37m\u001b[0m \u001b[1m1s\u001b[0m 24ms/step - accuracy: 0.8751 - loss: 0.5928 - val_accuracy: 0.8796 - val_loss: 0.5858\n",
      "Epoch 13/25\n",
      "\u001b[1m28/28\u001b[0m \u001b[32m━━━━━━━━━━━━━━━━━━━━\u001b[0m\u001b[37m\u001b[0m \u001b[1m1s\u001b[0m 22ms/step - accuracy: 0.8825 - loss: 0.5830 - val_accuracy: 0.8796 - val_loss: 0.5784\n",
      "Epoch 14/25\n",
      "\u001b[1m28/28\u001b[0m \u001b[32m━━━━━━━━━━━━━━━━━━━━\u001b[0m\u001b[37m\u001b[0m \u001b[1m1s\u001b[0m 33ms/step - accuracy: 0.8837 - loss: 0.5753 - val_accuracy: 0.8796 - val_loss: 0.5714\n",
      "Epoch 15/25\n",
      "\u001b[1m28/28\u001b[0m \u001b[32m━━━━━━━━━━━━━━━━━━━━\u001b[0m\u001b[37m\u001b[0m \u001b[1m1s\u001b[0m 21ms/step - accuracy: 0.8745 - loss: 0.5715 - val_accuracy: 0.8796 - val_loss: 0.5645\n",
      "Epoch 16/25\n",
      "\u001b[1m28/28\u001b[0m \u001b[32m━━━━━━━━━━━━━━━━━━━━\u001b[0m\u001b[37m\u001b[0m \u001b[1m1s\u001b[0m 48ms/step - accuracy: 0.8837 - loss: 0.5612 - val_accuracy: 0.8796 - val_loss: 0.5577\n",
      "Epoch 17/25\n",
      "\u001b[1m28/28\u001b[0m \u001b[32m━━━━━━━━━━━━━━━━━━━━\u001b[0m\u001b[37m\u001b[0m \u001b[1m2s\u001b[0m 50ms/step - accuracy: 0.8770 - loss: 0.5572 - val_accuracy: 0.8796 - val_loss: 0.5513\n",
      "Epoch 18/25\n",
      "\u001b[1m28/28\u001b[0m \u001b[32m━━━━━━━━━━━━━━━━━━━━\u001b[0m\u001b[37m\u001b[0m \u001b[1m1s\u001b[0m 34ms/step - accuracy: 0.8908 - loss: 0.5447 - val_accuracy: 0.8796 - val_loss: 0.5448\n",
      "Epoch 19/25\n",
      "\u001b[1m28/28\u001b[0m \u001b[32m━━━━━━━━━━━━━━━━━━━━\u001b[0m\u001b[37m\u001b[0m \u001b[1m1s\u001b[0m 26ms/step - accuracy: 0.8705 - loss: 0.5476 - val_accuracy: 0.8796 - val_loss: 0.5389\n",
      "Epoch 20/25\n",
      "\u001b[1m28/28\u001b[0m \u001b[32m━━━━━━━━━━━━━━━━━━━━\u001b[0m\u001b[37m\u001b[0m \u001b[1m1s\u001b[0m 20ms/step - accuracy: 0.8791 - loss: 0.5377 - val_accuracy: 0.8796 - val_loss: 0.5329\n",
      "Epoch 21/25\n",
      "\u001b[1m28/28\u001b[0m \u001b[32m━━━━━━━━━━━━━━━━━━━━\u001b[0m\u001b[37m\u001b[0m \u001b[1m1s\u001b[0m 18ms/step - accuracy: 0.8864 - loss: 0.5281 - val_accuracy: 0.8796 - val_loss: 0.5272\n",
      "Epoch 22/25\n",
      "\u001b[1m28/28\u001b[0m \u001b[32m━━━━━━━━━━━━━━━━━━━━\u001b[0m\u001b[37m\u001b[0m \u001b[1m1s\u001b[0m 19ms/step - accuracy: 0.8946 - loss: 0.5179 - val_accuracy: 0.8796 - val_loss: 0.5217\n",
      "Epoch 23/25\n",
      "\u001b[1m28/28\u001b[0m \u001b[32m━━━━━━━━━━━━━━━━━━━━\u001b[0m\u001b[37m\u001b[0m \u001b[1m1s\u001b[0m 20ms/step - accuracy: 0.8775 - loss: 0.5215 - val_accuracy: 0.8796 - val_loss: 0.5164\n",
      "Epoch 24/25\n",
      "\u001b[1m28/28\u001b[0m \u001b[32m━━━━━━━━━━━━━━━━━━━━\u001b[0m\u001b[37m\u001b[0m \u001b[1m1s\u001b[0m 18ms/step - accuracy: 0.8636 - loss: 0.5243 - val_accuracy: 0.8796 - val_loss: 0.5112\n",
      "Epoch 25/25\n",
      "\u001b[1m28/28\u001b[0m \u001b[32m━━━━━━━━━━━━━━━━━━━━\u001b[0m\u001b[37m\u001b[0m \u001b[1m1s\u001b[0m 20ms/step - accuracy: 0.8711 - loss: 0.5150 - val_accuracy: 0.8796 - val_loss: 0.5060\n"
     ]
    }
   ],
   "source": [
    "from tensorflow.keras.callbacks import EarlyStopping\n",
    "\n",
    "early_stop = EarlyStopping(monitor='val_loss', patience=5, restore_best_weights=True)\n",
    "\n",
    "history = model.fit(\n",
    "    X_train, y_train,\n",
    "    validation_data=(X_val, y_val),\n",
    "    epochs=25,\n",
    "    batch_size=32,\n",
    "    callbacks=[early_stop],\n",
    "    verbose=1\n",
    ")"
   ]
  },
  {
   "cell_type": "markdown",
   "id": "90d2c079",
   "metadata": {},
   "source": [
    "#### Model Evaluation\n",
    "We evaluate the model using standard metrics and plots"
   ]
  },
  {
   "cell_type": "code",
   "execution_count": 111,
   "id": "fed4bdfc",
   "metadata": {},
   "outputs": [
    {
     "name": "stdout",
     "output_type": "stream",
     "text": [
      "\u001b[1m6/6\u001b[0m \u001b[32m━━━━━━━━━━━━━━━━━━━━\u001b[0m\u001b[37m\u001b[0m \u001b[1m0s\u001b[0m 15ms/step\n",
      "Accuracy: 0.875\n",
      "Precision: 0.875\n",
      "Recall: 1.0\n",
      "F1-score: 0.9333333333333333\n",
      "AU-ROC: 0.5\n",
      "AU-PRC: 0.875\n"
     ]
    },
    {
     "data": {
      "image/png": "[encoded data removed]",
      "text/plain": [
       "<Figure size 640x480 with 2 Axes>"
      ]
     },
     "metadata": {},
     "output_type": "display_data"
    },
    {
     "data": {
      "image/png": "[encoded data removed]",
      "text/plain": [
       "<Figure size 640x480 with 1 Axes>"
      ]
     },
     "metadata": {},
     "output_type": "display_data"
    }
   ],
   "source": [
    "from sklearn.metrics import (\n",
    "    accuracy_score, precision_score, recall_score, f1_score,\n",
    "    roc_auc_score, average_precision_score, confusion_matrix, roc_curve, precision_recall_curve\n",
    ")\n",
    "import matplotlib.pyplot as plt\n",
    "import seaborn as sns\n",
    "\n",
    "# Predict probabilities and classes\n",
    "y_pred_prob = model.predict(X_test).flatten()\n",
    "y_pred = (y_pred_prob > 0.5).astype(int)\n",
    "\n",
    "# Metrics\n",
    "print(\"Accuracy:\", accuracy_score(y_test, y_pred))\n",
    "print(\"Precision:\", precision_score(y_test, y_pred))\n",
    "print(\"Recall:\", recall_score(y_test, y_pred))\n",
    "print(\"F1-score:\", f1_score(y_test, y_pred))\n",
    "print(\"AU-ROC:\", roc_auc_score(y_test, y_pred_prob))\n",
    "print(\"AU-PRC:\", average_precision_score(y_test, y_pred_prob))\n",
    "\n",
    "# Confusion Matrix\n",
    "cm = confusion_matrix(y_test, y_pred)\n",
    "sns.heatmap(cm, annot=True, fmt='d', cmap='Blues')\n",
    "plt.title(\"Confusion Matrix\")\n",
    "plt.xlabel(\"Predicted\")\n",
    "plt.ylabel(\"Actual\")\n",
    "plt.show()\n",
    "\n",
    "# ROC Curve\n",
    "fpr, tpr, _ = roc_curve(y_test, y_pred_prob)\n",
    "plt.plot(fpr, tpr, label='ROC curve')\n",
    "plt.xlabel('False Positive Rate')\n",
    "plt.ylabel('True Positive Rate')\n",
    "plt.title('ROC Curve')\n",
    "plt.legend()\n",
    "plt.show()\n",
    "\n"
   ]
  },
  {
   "cell_type": "code",
   "execution_count": 119,
   "id": "c67a6402",
   "metadata": {},
   "outputs": [
    {
     "name": "stdout",
     "output_type": "stream",
     "text": [
      "\u001b[1m1/1\u001b[0m \u001b[32m━━━━━━━━━━━━━━━━━━━━\u001b[0m\u001b[37m\u001b[0m \u001b[1m0s\u001b[0m 100ms/step\n",
      "Queen Presence Probability: 0.94\n",
      "Predicted: Present\n"
     ]
    }
   ],
   "source": [
    "# For a new file, extract features as before\n",
    "mfccs = features_extractor(r'C:\\Users\\uamaa\\Bee-accoustic\\archive\\sound_files\\sound_files\\2022-07-15--15-28-21_2__segment4.wav')\n",
    "mfccs_input = mfccs.reshape(1, -1)\n",
    "prob = model.predict(mfccs_input)[0, 0]\n",
    "print(f\"Queen Presence Probability: {prob:.2f}\")\n",
    "print(\"Predicted:\", \"Present\" if prob > 0.8 else \"Absent\")\n"
   ]
  },
  {
   "cell_type": "markdown",
   "id": "fd65006f",
   "metadata": {},
   "source": [
    "# References\n",
    "- Dataset:\n",
    "Anna Yang. (2022). Smart Bee Colony Monitor: Clips of Beehive Sounds. Kaggle.\n",
    "https://www.kaggle.com/datasets/annajyang/beehive-sounds?select=sound_files\n",
    "DOI: 10.34740/KAGGLE/DSV/4451415\n",
    "\n",
    "- Librosa documentation\n",
    "\n",
    "- TensorFlow Keras Guides"
   ]
  },
  {
   "cell_type": "markdown",
   "id": "dd3b7337",
   "metadata": {},
   "source": [
    "<details>\n",
    "<summary>BibTeX Citation</summary>\n",
    "\n",
    "```bibtex\n",
    "@misc{anna_yang_2022,\n",
    "  title={Smart Bee Colony Monitor: Clips of Beehive Sounds},\n",
    "  url={https://www.kaggle.com/dsv/4451415},\n",
    "  DOI={10.34740/KAGGLE/DSV/4451415},\n",
    "  publisher={Kaggle},\n",
    "  author={Anna Yang},\n",
    "  year={2022}\n",
    "}\n"
   ]
  }
 ],
 "metadata": {
  "kernelspec": {
   "display_name": "Python 3",
   "language": "python",
   "name": "python3"
  },
  "language_info": {
   "codemirror_mode": {
    "name": "ipython",
    "version": 3
   },
   "file_extension": ".py",
   "mimetype": "text/x-python",
   "name": "python",
   "nbconvert_exporter": "python",
   "pygments_lexer": "ipython3",
   "version": "3.12.5"
  }
 },
 "nbformat": 4,
 "nbformat_minor": 5
}
